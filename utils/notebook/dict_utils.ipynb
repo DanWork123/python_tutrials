{
 "cells": [
  {
   "cell_type": "code",
   "execution_count": 2,
   "metadata": {},
   "outputs": [],
   "source": [
    "from typing import Dict, List, Tuple, Optional, Any"
   ]
  },
  {
   "cell_type": "markdown",
   "metadata": {},
   "source": [
    "# サンプルの辞書変数"
   ]
  },
  {
   "cell_type": "code",
   "execution_count": 79,
   "metadata": {},
   "outputs": [
    {
     "name": "stdout",
     "output_type": "stream",
     "text": [
      "{'a': 1, 'aa': {'bb': 2}, 'aaa': {'bbb': {'ccc': 1}}}\n"
     ]
    }
   ],
   "source": [
    "sample_dict = dict(\n",
    "    a=1,\n",
    "    aa=dict(\n",
    "        bb=2\n",
    "    ),\n",
    "    aaa=dict(\n",
    "        bbb=dict(\n",
    "            ccc=1\n",
    "        )\n",
    "    )\n",
    ")\n",
    "\n",
    "print(sample_dict)"
   ]
  },
  {
   "attachments": {},
   "cell_type": "markdown",
   "metadata": {},
   "source": [
    "# 辞書のネストの深さを調べる"
   ]
  },
  {
   "cell_type": "code",
   "execution_count": 127,
   "metadata": {},
   "outputs": [],
   "source": [
    "def get_nest_level(target_dict: Dict) -> Optional[int]:\n",
    "    try:\n",
    "        nest_level_count = _get_nest_level(target_dict)\n",
    "        done_process = True\n",
    "    except:\n",
    "        nest_level_count = None\n",
    "        done_process = False\n",
    "    return done_process, nest_level_count\n",
    "    \n",
    "def _get_nest_level(target_dict: Dict) -> int:\n",
    "    max_nest_level = 0\n",
    "    for val in target_dict.values():\n",
    "        if isinstance(val, dict):\n",
    "            max_nest_level += 1\n",
    "            _get_nest_level(val)\n",
    "    return max_nest_level"
   ]
  },
  {
   "cell_type": "code",
   "execution_count": 129,
   "metadata": {},
   "outputs": [
    {
     "name": "stdout",
     "output_type": "stream",
     "text": [
      "### original before process ###\n",
      "{'a': 1, 'aa': {'bb': 2}, 'aaa': {'bbb': {'ccc': 1}}}\n",
      "\n",
      "### return ###\n",
      "- done_process: True\n",
      "- nest_level_count: 2\n",
      "\n",
      "### original after process ###\n",
      "{'a': 1, 'aa': {'bb': 2}, 'aaa': {'bbb': {'ccc': 1}}}\n"
     ]
    }
   ],
   "source": [
    "# テスト\n",
    "print(f'### original before process ###')\n",
    "print(sample_dict)\n",
    "\n",
    "print(f'\\n### return ###')\n",
    "done_process, nest_level_count = get_nest_level(sample_dict)\n",
    "print(f'- done_process: {done_process}')\n",
    "print(f'- nest_level_count: {nest_level_count}')\n",
    "\n",
    "print(f'\\n### original after process ###')\n",
    "print(sample_dict)"
   ]
  },
  {
   "attachments": {},
   "cell_type": "markdown",
   "metadata": {},
   "source": [
    "# 入れ子の辞書を展開して、キーを文字列でつなげて、新しい一次元の辞書を作る"
   ]
  },
  {
   "cell_type": "code",
   "execution_count": 130,
   "metadata": {},
   "outputs": [],
   "source": [
    "def unwrap_dict_with_infix(dct: Dict, prefix: str = '', infix: str = '_') -> Tuple[bool, Optional[Dict]]:\n",
    "    try:\n",
    "        ret_dict = dict(_unwrap_dict_with_infix(dct, prefix, infix))\n",
    "        done_process = True\n",
    "    except:\n",
    "        ret_dict = None\n",
    "        done_process = False\n",
    "    return done_process, ret_dict\n",
    "\n",
    "def _unwrap_dict_with_infix(dct: Dict[str, Any], prefix: str, infix: str):\n",
    "    for key, value in dct.items():\n",
    "        new_key = f'{prefix}{infix}{key}'\n",
    "        if isinstance(value, dict):\n",
    "            yield from _unwrap_dict_with_infix(value, new_key, infix)\n",
    "        else:\n",
    "            yield new_key[1:], value\n"
   ]
  },
  {
   "cell_type": "code",
   "execution_count": 132,
   "metadata": {},
   "outputs": [
    {
     "name": "stdout",
     "output_type": "stream",
     "text": [
      "### original before process ###\n",
      "{'a': 1, 'aa': {'bb': 2}, 'aaa': {'bbb': {'ccc': 1}}}\n",
      "\n",
      "### return ###\n",
      "- done_process: True\n",
      "- ret_dict: {'a': 1, 'aa-bb': 2, 'aaa-bbb-ccc': 1}\n",
      "\n",
      "### original after process ###\n",
      "{'a': 1, 'aa': {'bb': 2}, 'aaa': {'bbb': {'ccc': 1}}}\n"
     ]
    }
   ],
   "source": [
    "# テスト\n",
    "print(f'### original before process ###')\n",
    "print(sample_dict)\n",
    "\n",
    "print(f'\\n### return ###')\n",
    "done_process, ret_dict = unwrap_dict_with_infix(sample_dict, infix='-')\n",
    "print(f'- done_process: {done_process}')\n",
    "print(f'- ret_dict: {ret_dict}')\n",
    "\n",
    "print(f'\\n### original after process ###')\n",
    "print(sample_dict)"
   ]
  },
  {
   "attachments": {},
   "cell_type": "markdown",
   "metadata": {},
   "source": [
    "# 全てのキーを取得する"
   ]
  },
  {
   "cell_type": "code",
   "execution_count": 144,
   "metadata": {},
   "outputs": [],
   "source": [
    "def get_all_keys(target_dict: Dict) -> Tuple[bool, Optional[int]]:\n",
    "    try:\n",
    "        tmp_infix = '-'\n",
    "        _, ret_dict = unwrap_dict_with_infix(target_dict, infix=tmp_infix)\n",
    "        all_keys = [d.split(tmp_infix) for d in ret_dict.keys()]\n",
    "        done_process = True\n",
    "    except:\n",
    "        all_keys = None\n",
    "        done_process = False\n",
    "    return done_process, all_keys"
   ]
  },
  {
   "cell_type": "code",
   "execution_count": 145,
   "metadata": {},
   "outputs": [
    {
     "name": "stdout",
     "output_type": "stream",
     "text": [
      "### original before process ###\n",
      "{'a': 1, 'aa': {'bb': 2}, 'aaa': {'bbb': {'ccc': 1}}}\n",
      "\n",
      "### return ###\n",
      "- done_process: True\n",
      "- all_keys: [['a'], ['aa', 'bb'], ['aaa', 'bbb', 'ccc']]\n",
      "\n",
      "### original after process ###\n",
      "{'a': 1, 'aa': {'bb': 2}, 'aaa': {'bbb': {'ccc': 1}}}\n"
     ]
    }
   ],
   "source": [
    "# テスト\n",
    "print(f'### original before process ###')\n",
    "print(sample_dict)\n",
    "\n",
    "print(f'\\n### return ###')\n",
    "done_process, all_keys = get_all_keys(sample_dict)\n",
    "print(f'- done_process: {done_process}')\n",
    "print(f'- all_keys: {all_keys}')\n",
    "\n",
    "print(f'\\n### original after process ###')\n",
    "print(sample_dict)"
   ]
  },
  {
   "attachments": {},
   "cell_type": "markdown",
   "metadata": {},
   "source": [
    "# 辞書の中の全てのキーに対し、ある要素と等しいか確認する"
   ]
  },
  {
   "cell_type": "code",
   "execution_count": 80,
   "metadata": {},
   "outputs": [],
   "source": [
    "import copy\n",
    "# NOTE: 非破壊的処理\n",
    "def search_all_values_with_query(target_dict: Dict, query: Any) -> Tuple[bool, Optional[Dict], Optional[bool]]:\n",
    "    try:\n",
    "        copy_target_dict = copy.deepcopy(target_dict)\n",
    "        ret_dict = _search_all_values_with_target_value(copy_target_dict, query)\n",
    "        are_all_equal = are_all_values_equal_to_query(ret_dict, True)\n",
    "        done_process = True\n",
    "    except:\n",
    "        ret_dict = None\n",
    "        are_all_equal = None\n",
    "        done_process = False\n",
    "    return done_process, ret_dict, are_all_equal\n",
    "\n",
    "# NOTE: 破壊的処理\n",
    "def _search_all_values_with_target_value(target_dict: Dict, query: Any) -> Dict:\n",
    "    for key, val in target_dict.items():\n",
    "        if isinstance(val, dict):\n",
    "            _search_all_values_with_target_value(val, query)\n",
    "        else:\n",
    "            target_dict[key] = val == query\n",
    "    return target_dict\n",
    "\n",
    "def are_all_values_equal_to_query(target_dict: Dict, query: Any) -> bool:\n",
    "    for val in target_dict.values():\n",
    "        if isinstance(val, dict):\n",
    "            are_all_equal = are_all_values_equal_to_query(val, query)\n",
    "        else:\n",
    "            are_all_equal = val == query\n",
    "        \n",
    "        if are_all_equal == False:\n",
    "            return are_all_equal\n",
    "        \n",
    "    return are_all_equal"
   ]
  },
  {
   "cell_type": "code",
   "execution_count": 82,
   "metadata": {},
   "outputs": [
    {
     "name": "stdout",
     "output_type": "stream",
     "text": [
      "### original before process ###\n",
      "{'a': 1, 'aa': {'bb': 2}, 'aaa': {'bbb': {'ccc': 1}}}\n",
      "\n",
      "### return ###\n",
      "- query: 1\n",
      "- done_process: True\n",
      "- ret_dict: {'a': True, 'aa': {'bb': False}, 'aaa': {'bbb': {'ccc': True}}}\n",
      "- are_all_equal: False\n",
      "\n",
      "### original after process ###\n",
      "{'a': 1, 'aa': {'bb': 2}, 'aaa': {'bbb': {'ccc': 1}}}\n"
     ]
    }
   ],
   "source": [
    "# テスト\n",
    "print(f'### original before process ###')\n",
    "print(sample_dict)\n",
    "\n",
    "print(f'\\n### return ###')\n",
    "query = 1\n",
    "done_process, target_dict, ret_dict = search_all_values_with_query(sample_dict, query)\n",
    "print(f'- query: {query}')\n",
    "print(f'- done_process: {done_process}')\n",
    "print(f'- ret_dict: {target_dict}')\n",
    "print(f'- are_all_equal: {ret_dict}')\n",
    "\n",
    "print(f'\\n### original after process ###')\n",
    "print(sample_dict)"
   ]
  },
  {
   "attachments": {},
   "cell_type": "markdown",
   "metadata": {},
   "source": [
    "# 全てのキーをある要素に置き換える"
   ]
  },
  {
   "cell_type": "code",
   "execution_count": 36,
   "metadata": {},
   "outputs": [],
   "source": [
    "import copy\n",
    "# NOTE: 非破壊的処理\n",
    "def replace_all_values_with_new_value(target_dict: Dict, new_val: Any) -> Tuple[bool, Optional[Dict]]:\n",
    "    try:\n",
    "        copy_target_dict = copy.deepcopy(target_dict)\n",
    "        ret_dict = _replace_all_values_with_new_value(copy_target_dict, new_val)\n",
    "        done_process = True\n",
    "    except:\n",
    "        ret_dict = None\n",
    "        done_process = False\n",
    "    return done_process, ret_dict\n",
    "\n",
    "# NOTE: 破壊的処理\n",
    "def _replace_all_values_with_new_value(target_dict: Dict, new_val: Any) -> Dict:\n",
    "    for key, val in target_dict.items():\n",
    "        if isinstance(val, dict):\n",
    "            _replace_all_values_with_new_value(val, new_val)\n",
    "        else:\n",
    "            target_dict[key] = new_val\n",
    "    return target_dict"
   ]
  },
  {
   "cell_type": "code",
   "execution_count": 37,
   "metadata": {},
   "outputs": [
    {
     "name": "stdout",
     "output_type": "stream",
     "text": [
      "### original before process ###\n",
      "{'a': 1, 'aa': {'bb': 2}, 'aaa': {'bbb': {'ccc': 1}}}\n",
      "\n",
      "### return ###\n",
      "- done_process: True\n",
      "- ret_target_dict: {'a': 'hoge', 'aa': {'bb': 'hoge'}, 'aaa': {'bbb': {'ccc': 'hoge'}}}\n",
      "\n",
      "### original after process ###\n",
      "{'a': 1, 'aa': {'bb': 2}, 'aaa': {'bbb': {'ccc': 1}}}\n"
     ]
    }
   ],
   "source": [
    "# テスト\n",
    "print(f'### original before process ###')\n",
    "print(sample_dict)\n",
    "\n",
    "print(f'\\n### return ###')\n",
    "done_process, ret_dict = replace_all_values_with_new_value(sample_dict, 'hoge')\n",
    "print(f'- done_process: {done_process}')\n",
    "print(f'- ret_target_dict: {ret_dict}')\n",
    "\n",
    "print(f'\\n### original after process ###')\n",
    "print(sample_dict)"
   ]
  },
  {
   "cell_type": "code",
   "execution_count": null,
   "metadata": {},
   "outputs": [],
   "source": []
  },
  {
   "cell_type": "code",
   "execution_count": null,
   "metadata": {},
   "outputs": [],
   "source": []
  }
 ],
 "metadata": {
  "kernelspec": {
   "display_name": "Python 3",
   "language": "python",
   "name": "python3"
  },
  "language_info": {
   "codemirror_mode": {
    "name": "ipython",
    "version": 3
   },
   "file_extension": ".py",
   "mimetype": "text/x-python",
   "name": "python",
   "nbconvert_exporter": "python",
   "pygments_lexer": "ipython3",
   "version": "3.10.5"
  },
  "orig_nbformat": 4,
  "vscode": {
   "interpreter": {
    "hash": "0bb86e97ab848928f37ecfcfc612b74fecacb7a8e3cefd97f87c97dcc2cae948"
   }
  }
 },
 "nbformat": 4,
 "nbformat_minor": 2
}
